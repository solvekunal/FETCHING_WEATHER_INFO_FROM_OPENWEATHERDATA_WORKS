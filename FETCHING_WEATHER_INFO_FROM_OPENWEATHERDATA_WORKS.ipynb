{
 "cells": [
  {
   "cell_type": "code",
   "execution_count": 3,
   "id": "be379f30-4133-40b8-9186-67e328722ef1",
   "metadata": {},
   "outputs": [
    {
     "name": "stdin",
     "output_type": "stream",
     "text": [
      "Enter the city name:  gaya\n"
     ]
    },
    {
     "name": "stdout",
     "output_type": "stream",
     "text": [
      "City: Gaya\n",
      "Temperature: 31.7°C\n",
      "Weather: broken clouds\n"
     ]
    }
   ],
   "source": [
    "import requests\n",
    "\n",
    "def get_weather(city, api_key):\n",
    "    url = f\"http://api.openweathermap.org/data/2.5/weather?q={city}&appid={api_key}&units=metric\"\n",
    "    response = requests.get(url)\n",
    "    if response.status_code == 200:\n",
    "        return response.json()\n",
    "    else:\n",
    "        print(\"Error:\", response.status_code, response.json())\n",
    "        return None\n",
    "\n",
    "def display_weather(weather_data):\n",
    "    if weather_data:\n",
    "        city = weather_data['name']\n",
    "        temp = weather_data['main']['temp']\n",
    "        description = weather_data['weather'][0]['description']\n",
    "        print(f\"City: {city}\")\n",
    "        print(f\"Temperature: {temp}°C\")\n",
    "        print(f\"Weather: {description}\")\n",
    "    else:\n",
    "        print(\"No weather data available.\")\n",
    "\n",
    "def main():\n",
    "    api_key = \"d9fd86b1cc92aa74a63ac5095bf88321\"  # Replace with your API key\n",
    "    city = input(\"Enter the city name: \")\n",
    "    weather_data = get_weather(city, api_key)\n",
    "    display_weather(weather_data)\n",
    "\n",
    "if __name__ == \"__main__\":\n",
    "    main()"
   ]
  },
  {
   "cell_type": "markdown",
   "id": "2611ff40-02c0-4a94-be95-c77e69359a6f",
   "metadata": {},
   "source": [
    "# UI FOR TAKING CIT NAME AS INPUT AND DISPLAYING WEATHER DATA AS RESPONSE. THIS WORKS"
   ]
  },
  {
   "cell_type": "code",
   "execution_count": null,
   "id": "3d853d68-c602-42ac-a6db-bc9557e0e2f6",
   "metadata": {},
   "outputs": [],
   "source": [
    "import requests\n",
    "import streamlit as st\n",
    "\n",
    "def get_weather(city, api_key):\n",
    "    url = f\"http://api.openweathermap.org/data/2.5/weather?q={city}&appid={api_key}&units=metric\"\n",
    "    response = requests.get(url)\n",
    "    if response.status_code == 200:\n",
    "        return response.json()\n",
    "    else:\n",
    "        return None\n",
    "\n",
    "def display_weather(weather_data):\n",
    "    if weather_data:\n",
    "        city = weather_data['name']\n",
    "        temp = weather_data['main']['temp']\n",
    "        description = weather_data['weather'][0]['description']\n",
    "        st.write(f\"**City:** {city}\")\n",
    "        st.write(f\"**Temperature:** {temp}°C\")\n",
    "        st.write(f\"**Weather:** {description}\")\n",
    "    else:\n",
    "        st.write(\"No weather data available.\")\n",
    "\n",
    "def main():\n",
    "    st.title(\"Weather Info App\")\n",
    "    api_key = \"d9fd86b1cc92aa74a63ac5095bf88321\"  # Replace with your API key\n",
    "    city = st.text_input(\"Enter the city name:\")\n",
    "    if city:\n",
    "        weather_data = get_weather(city, api_key)\n",
    "        display_weather(weather_data)\n",
    "\n",
    "if __name__ == \"__main__\":\n",
    "    main()"
   ]
  },
  {
   "cell_type": "code",
   "execution_count": null,
   "id": "fdd6f5cd-6cd4-4885-8bde-4f4a497d0aaa",
   "metadata": {},
   "outputs": [],
   "source": []
  }
 ],
 "metadata": {
  "kernelspec": {
   "display_name": "Python 3 (ipykernel)",
   "language": "python",
   "name": "python3"
  },
  "language_info": {
   "codemirror_mode": {
    "name": "ipython",
    "version": 3
   },
   "file_extension": ".py",
   "mimetype": "text/x-python",
   "name": "python",
   "nbconvert_exporter": "python",
   "pygments_lexer": "ipython3",
   "version": "3.12.4"
  }
 },
 "nbformat": 4,
 "nbformat_minor": 5
}
